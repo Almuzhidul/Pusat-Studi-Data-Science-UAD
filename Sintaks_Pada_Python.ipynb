{
  "nbformat": 4,
  "nbformat_minor": 0,
  "metadata": {
    "colab": {
      "name": "Sintaks Pada Python.ipynb",
      "provenance": [],
      "authorship_tag": "ABX9TyNb0V5/vyySCqa6UobeoulC",
      "include_colab_link": true
    },
    "kernelspec": {
      "name": "python3",
      "display_name": "Python 3"
    }
  },
  "cells": [
    {
      "cell_type": "markdown",
      "metadata": {
        "id": "view-in-github",
        "colab_type": "text"
      },
      "source": [
        "<a href=\"https://colab.research.google.com/github/Almuzhidul/Pusat-Studi-Data-Science-UAD/blob/main/Sintaks_Pada_Python.ipynb\" target=\"_parent\"><img src=\"https://colab.research.google.com/assets/colab-badge.svg\" alt=\"Open In Colab\"/></a>"
      ]
    },
    {
      "cell_type": "markdown",
      "metadata": {
        "id": "IlxPIJLq1Mr_"
      },
      "source": [
        "#**Sintaks pada Python**\n",
        "#####Python merupakan bahasa pemrograman yang memiliki sintaks yang sederhana dan mudah dimengerti. Python memiliki filosofi bahwa kode program harus mudah dibaca\n",
        "\n",
        "###**Mengeksekusi sintaks pada python**\n",
        "\n",
        "#####Seperti yang kita pelajari di halaman sebelumnya, sintaks Python dapat dijalankan dengan menulis langsung di Command Line:"
      ]
    },
    {
      "cell_type": "code",
      "metadata": {
        "id": "ZMGq6-Pq0FWC"
      },
      "source": [
        "#Contoh 1\n",
        "print(\"Hello Mujhid\")\n",
        "\n",
        "#Contoh 2\n",
        "print(\"Hai Idhul\")"
      ],
      "execution_count": null,
      "outputs": []
    },
    {
      "cell_type": "markdown",
      "metadata": {
        "id": "HvRcc5RAIrA4"
      },
      "source": [
        "Outpout :\n",
        "```\n",
        "Hello Mujhid\n",
        "Hai Idhul\n",
        "```"
      ]
    },
    {
      "cell_type": "markdown",
      "metadata": {
        "id": "Zi90XYdk4B9-"
      },
      "source": [
        "###**Identasi Python**\n",
        "#####Indentasi mengacu pada spasi di awal baris kode. Di mana dalam bahasa pemrograman lain lekukan dalam kode hanya untuk dibaca, lekukan dalam Python sangat penting. Python menggunakan indentasi untuk menunjukkan blok kode."
      ]
    },
    {
      "cell_type": "code",
      "metadata": {
        "id": "lkUeCDW-3vL5"
      },
      "source": [
        "#Contoh Benar\n",
        "if 3 > 2:\n",
        "  print(\"UAD Adalah Universitas Ahmad Dahlan\")"
      ],
      "execution_count": null,
      "outputs": []
    },
    {
      "cell_type": "markdown",
      "metadata": {
        "id": "PHhdKmh8IzMX"
      },
      "source": [
        "Output :\n",
        "```\n",
        "UAD Adalah Universitas Ahmad Dahlan\n",
        "```teks yang dimiringkan"
      ]
    },
    {
      "cell_type": "code",
      "metadata": {
        "id": "fqi98iaK7faD"
      },
      "source": [
        "#Python akan memberi Anda kesalahan jika Anda melewati indentasi:\n",
        "#Contoh Salah\n",
        "if 3 > 2:\n",
        "print(\"UAD Adalah Universitas Ahmad Dahlan\")"
      ],
      "execution_count": null,
      "outputs": []
    },
    {
      "cell_type": "markdown",
      "metadata": {
        "id": "u1jSse0TI9oj"
      },
      "source": [
        "Output :\n",
        "```\n",
        "  File \"<ipython-input-23-fafa222a6051>\", line 4\n",
        "    print(\"UAD Adalah Universitas Ahmad Dahlan\")\n",
        "        ^\n",
        "IndentationError: expected an indented block\n",
        "```"
      ]
    },
    {
      "cell_type": "markdown",
      "metadata": {
        "id": "htcyskm27G04"
      },
      "source": [
        "#####Jumlah spasi terserah Anda sebagai programmer, tetapi setidaknya harus satu."
      ]
    },
    {
      "cell_type": "code",
      "metadata": {
        "id": "zEuMVgDz67Dz"
      },
      "source": [
        "if 5 > 2:\n",
        " print(\"UAD adalah Universitas Ahmad Dahlan\") \n",
        "if 5 > 2:\n",
        "        print(\"UAD adalah Universitas Ahmad Dahlan\") "
      ],
      "execution_count": null,
      "outputs": []
    },
    {
      "cell_type": "markdown",
      "metadata": {
        "id": "9QiQ7Av9JLNO"
      },
      "source": [
        "Output :\n",
        "```\n",
        "UAD adalah Universitas Ahmad Dahlan\n",
        "UAD adalah Universitas Ahmad Dahlan\n",
        "```"
      ]
    },
    {
      "cell_type": "markdown",
      "metadata": {
        "id": "ZgLPzQqrBxua"
      },
      "source": [
        "#####Anda harus menggunakan jumlah spasi yang sama dalam blok kode yang sama, jika tidak Python akan memberikan kesalahan"
      ]
    },
    {
      "cell_type": "code",
      "metadata": {
        "id": "sLPWtIOk_S9a"
      },
      "source": [
        "#Contoh Error\n",
        "if 5 > 2:\n",
        " print(\"Five is greater than two!\")\n",
        "        print(\"Five is greater than two!\")"
      ],
      "execution_count": null,
      "outputs": []
    },
    {
      "cell_type": "markdown",
      "metadata": {
        "id": "pDrn-cjGFtpe"
      },
      "source": [
        "Output\n",
        "```\n",
        " File \"<ipython-input-22-62bcca841084>\", line 4\n",
        "    print(\"Five is greater than two!\")\n",
        "    ^\n",
        "IndentationError: unexpected indent\n",
        "```"
      ]
    },
    {
      "cell_type": "markdown",
      "metadata": {
        "id": "NJcSY38nJ58a"
      },
      "source": [
        "###**Python Variabel**\n",
        "#####Pada Python, variabel dibuat saat Kita memberikan nilai padanya:"
      ]
    },
    {
      "cell_type": "code",
      "metadata": {
        "id": "7hpWAhRwFORm"
      },
      "source": [
        "x = 5 # x adalah variabel yang nilainya adalah 5\n",
        "y = \"Hello, World!\" # y adalah variabel yang nilainya adalah kalimat 'Hello, World'"
      ],
      "execution_count": null,
      "outputs": []
    },
    {
      "cell_type": "markdown",
      "metadata": {
        "id": "ww8gtilXK4GR"
      },
      "source": [
        "#####Python tidak memiliki perintah untuk mendeklarasikan variabel.\n",
        "#####Kita akan mempelajari lebih lanjut tentang variabel di materi Variabel Python"
      ]
    },
    {
      "cell_type": "markdown",
      "metadata": {
        "id": "ACPPHoV_VrKG"
      },
      "source": [
        "#**Comment**\n",
        "#####Python memiliki kemampuan berkomentar untuk tujuan dokumentasi dalam kode.\n",
        "#####Komentar dimulai dengan #, dan Python akan membuat sisa barisnya sebagai   #Komentar"
      ]
    },
    {
      "cell_type": "code",
      "metadata": {
        "id": "L4jkzwNKXSvu"
      },
      "source": [
        "#ini contoh komentar\n",
        "#ini lagi\n",
        "#ini juga"
      ],
      "execution_count": null,
      "outputs": []
    }
  ]
}