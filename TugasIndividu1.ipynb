{
  "nbformat": 4,
  "nbformat_minor": 0,
  "metadata": {
    "colab": {
      "name": "TugasIndividu1.ipynb",
      "provenance": [],
      "collapsed_sections": [],
      "authorship_tag": "ABX9TyMHYU4M1WiTMRuNbVBaKBXm",
      "include_colab_link": true
    },
    "kernelspec": {
      "name": "python3",
      "display_name": "Python 3"
    }
  },
  "cells": [
    {
      "cell_type": "markdown",
      "metadata": {
        "id": "view-in-github",
        "colab_type": "text"
      },
      "source": [
        "<a href=\"https://colab.research.google.com/github/Almuzhidul/Pusat-Studi-Data-Science-UAD/blob/main/TugasIndividu1.ipynb\" target=\"_parent\"><img src=\"https://colab.research.google.com/assets/colab-badge.svg\" alt=\"Open In Colab\"/></a>"
      ]
    },
    {
      "cell_type": "markdown",
      "metadata": {
        "id": "0h5jU9BnwwKW"
      },
      "source": [
        "#**Individul Project 1.0**\n",
        "Nama : Almuzhidul Mujhid\\\n",
        "NIM : 1800015044"
      ]
    },
    {
      "cell_type": "markdown",
      "metadata": {
        "id": "V4UaPjtOw1sA"
      },
      "source": [
        "###1. Sub Materi : Fungsi pada Python"
      ]
    },
    {
      "cell_type": "code",
      "metadata": {
        "id": "FHPXrfcpwp5u"
      },
      "source": [
        "#x = sisi miring\n",
        "#y = alas\n",
        "def perkalian(x,y=None):\n",
        "    if (y==None):\n",
        "      return ((x**2)*(3**(1/2))/4)\n",
        "    else :\n",
        "      return y*(((x**2)-(y/2)**2)**(1/2))/2\n",
        "print(perkalian(10,5))\n",
        "print(perkalian(9))"
      ],
      "execution_count": null,
      "outputs": []
    },
    {
      "cell_type": "markdown",
      "metadata": {
        "id": "tOYzNxqfw9eO"
      },
      "source": [
        "###2. Sub Materi : Input, Output & Percabangan"
      ]
    },
    {
      "cell_type": "code",
      "metadata": {
        "id": "cTAzbZWtw-d6"
      },
      "source": [
        "import math\n",
        "print(\"__Pilih Masalah__\") #Pemilihan masalah yang ada pada segitiga\n",
        "print(\"[1.] Diketahui Dua sudut Satu sisi\")\n",
        "print(\"[2.] Diketahui Dua sisi Satu sudut\")\n",
        "print(\"[3.] Diketahui Tiga sisi\")\n",
        "print(\"[4.] Diketahui Satu sisi dan tinggi\")\n",
        "pilih = input(\"pilihan :\")\n",
        "if pilih =='1':\n",
        "    a=float(input(\"masukkan sudut 1 :\"))\n",
        "    b=float(input(\"masukkan sudut 2 :\"))\n",
        "    A=float(input(\"masukkan panjang sisi diantara sudut 1 dan sudut 2 :\"))\n",
        "    L=((A**2)*math.sin(math.radians(a))*math.sin(math.radians(b)))/(2*math.sin(math.radians(180-(a+b))))\n",
        "    B=(math.sin(math.radians(a))/math.sin(math.radians(180-(a+b))))*A\n",
        "    C=(math.sin(math.radians(b)))/math.sin(math.radians(180-(a+b)))*B\n",
        "    K=c+x+y\n",
        "    print(\"Luas_Segitiga :\",L)\n",
        "    print(\"Sisi B :\",B)\n",
        "    print(\"Sisi C :\",C)\n",
        "    print(\"Keliling :\",K)\n",
        "elif pilih =='2':\n",
        "    a=float(input(\"masukkan sisi 1 :\"))\n",
        "    b=float(input(\"masukkan sisi 2 :\"))\n",
        "    C=float(input(\"masukkan sudut yang diapit oleh sisi 1 dan 2 :\"))\n",
        "    L=a*b*(math.sin(math.radians(C)))/2\n",
        "    K=((a**2)+(b**2)-(2*a*b*math.sin(math.radians(C))))**(1/2)\n",
        "    print(\"Luas_Segitiga :\",L)\n",
        "    print(\"Keliling :\",K)\n",
        "elif pilih =='3':\n",
        "    a=float(input(\"masukkan sisi 1 :\"))\n",
        "    b=float(input(\"masukkan sisi 2 :\"))\n",
        "    c=float(input(\"masukkan sisi 3 :\"))\n",
        "    s=(a+b+c)/2\n",
        "    L=(s*(s-a)*(s-b)*(s-c))**(1/2)\n",
        "    K=a+b+c\n",
        "    print(\"Luas_Segitiga :\",L)\n",
        "    print(\"Keliling :\",K)\n",
        "elif pilih =='4':\n",
        "    a=float(input(\"masukkan sisi alas :\"))\n",
        "    t=float(input(\"masukkan tinggi :\"))\n",
        "    L=a*t/2\n",
        "    print(\"Luas_Segitiga :\",L)\n",
        "else:\n",
        "    print(\"Pilihan Masalah tidak tersedia\")"
      ],
      "execution_count": null,
      "outputs": []
    },
    {
      "cell_type": "markdown",
      "metadata": {
        "id": "A_EUbr_yxi3W"
      },
      "source": [
        "###3. Sub Materi : Matriks dan Perulangan"
      ]
    },
    {
      "cell_type": "code",
      "metadata": {
        "id": "dpv_woumxh6a"
      },
      "source": [
        "n= int(input(\"enter your number : \"))\n",
        "value=n\n",
        "size= n\n",
        "\n",
        "a=[[0 for i in range (size)]for j in range(size)]\n",
        "\n",
        "for j in range(size):\n",
        "    #Horizontal Left\n",
        "    a[j][0]=(size*4-3)-j\n",
        "    #vertikal upper\n",
        "    a[0][j]=j+1\n",
        "    #horizontal Right\n",
        "    a[j][size-1]=(size)+j\n",
        "    #vertikal lower\n",
        "    a[size-1][j]=(size*3-2)-j\n",
        "for i in range(size):\n",
        "  for j in range(size):\n",
        "    print(a[i][j],end=\"  \")\n",
        "  print()"
      ],
      "execution_count": null,
      "outputs": []
    }
  ]
}